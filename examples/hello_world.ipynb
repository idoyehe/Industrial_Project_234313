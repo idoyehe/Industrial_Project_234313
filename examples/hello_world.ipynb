{
 "cells": [
  {
   "cell_type": "markdown",
   "metadata": {},
   "source": [
    "# Simple Hello World example for IBM Cloud Functions PyWren"
   ]
  },
  {
   "cell_type": "markdown",
   "metadata": {
    "run_control": {
     "frozen": false,
     "read_only": false
    }
   },
   "source": [
    "This is a simple Hello World example, showing how to take a function and run it with pywren. First we import the necessary libraries. "
   ]
  },
  {
   "cell_type": "code",
   "execution_count": 1,
   "metadata": {
    "run_control": {
     "frozen": false,
     "read_only": false
    }
   },
   "outputs": [],
   "source": [
    "import pywren_ibm_cloud as pywren\n",
    "import numpy as np\n",
    "import os\n",
    "\n",
    "from IPython.display import display"
   ]
  },
  {
   "cell_type": "markdown",
   "metadata": {
    "run_control": {
     "frozen": false,
     "read_only": false
    }
   },
   "source": [
    "Pywren is designed to run any existing python functions you have, in parallel, at scale, on the cloud. So first, we create an example python function."
   ]
  },
  {
   "cell_type": "code",
   "execution_count": 2,
   "metadata": {
    "run_control": {
     "frozen": false,
     "read_only": false
    },
    "scrolled": true
   },
   "outputs": [],
   "source": [
    "def my_function(x):\n",
    "    return x + 7"
   ]
  },
  {
   "cell_type": "markdown",
   "metadata": {},
   "source": [
    "PyWren needs the keys to access IBM Cloud Object Storage and IBM Cloud Functions."
   ]
  },
  {
   "cell_type": "code",
   "execution_count": 3,
   "metadata": {},
   "outputs": [],
   "source": [
    "config = {'pywren' : { \n",
    "    'storage_bucket': 'STORAGE BUCKET',\n",
    "    'storage_prefix': 'DIRECTORY IN THE BUCKET' },\n",
    " 'ibm_cf': {\n",
    "    'endpoint': 'https://openwhisk.ng.bluemix.net', \n",
    "    'namespace': 'YOUR IBM CLOUD FUNCTIONS NAMESPASE', \n",
    "    'api_key': 'YOUR IBM CLOUD FUNCTIONSAPI KEY'}, \n",
    " 'ibm_cos': {\n",
    "    'endpoint': 'COS ENDPOUT, for example: http://s3-api.us-geo.objectstorage.softlayer.net', \n",
    "    'api_key' : 'COS API KEY'}}"
   ]
  },
  {
   "cell_type": "markdown",
   "metadata": {
    "run_control": {
     "frozen": false,
     "read_only": false
    }
   },
   "source": [
    "To start using `pywren`, we first create an executor with the previous config."
   ]
  },
  {
   "cell_type": "code",
   "execution_count": 4,
   "metadata": {
    "run_control": {
     "frozen": false,
     "read_only": false
    }
   },
   "outputs": [
    {
     "name": "stdout",
     "output_type": "stream",
     "text": [
      "IBM Cloud Functions init for namespace: gilv@il.ibm.com_Test and host: https://openwhisk.ng.bluemix.net\n",
      "IBM Cloud Functions init for runtime: pywren_3.6\n",
      "IBM Cloud Functions executor created with ID c8a496b5-37ca\n"
     ]
    }
   ],
   "source": [
    "wrenexec = pywren.ibm_cf_executor(config=config)"
   ]
  },
  {
   "cell_type": "markdown",
   "metadata": {
    "run_control": {
     "frozen": false,
     "read_only": false
    }
   },
   "source": [
    "We can call `my_function(3)` remotely via `call_async`: "
   ]
  },
  {
   "cell_type": "code",
   "execution_count": 5,
   "metadata": {
    "run_control": {
     "frozen": false,
     "read_only": false
    }
   },
   "outputs": [
    {
     "name": "stdout",
     "output_type": "stream",
     "text": [
      "Executor ID c8a496b5-37ca Uploading function and data\n",
      "Executor ID c8a496b5-37ca Starting function invocation: my_function()\n",
      "Executor ID c8a496b5-37ca Function 00000 - Activation ID: c7bda47f838e42c8bda47f838e42c89e - Time: 0.751 seconds\n",
      "Executor ID c8a496b5-37ca Invocation done: 0.831 seconds\n"
     ]
    },
    {
     "data": {
      "text/plain": [
       "<pywren_ibm_cloud.future.ResponseFuture at 0x109d9d710>"
      ]
     },
     "execution_count": 5,
     "metadata": {},
     "output_type": "execute_result"
    }
   ],
   "source": [
    "wrenexec.call_async(my_function, 3)"
   ]
  },
  {
   "cell_type": "markdown",
   "metadata": {
    "run_control": {
     "frozen": false,
     "read_only": false
    }
   },
   "source": [
    "Future is a placeholder for the returned value from applying `my_function` to the number `3`. We can call `result` on it and get the result. Note that this will block until the remote job has completed. Once finished it calls `close` to clean all the unnecessary data stored in COS."
   ]
  },
  {
   "cell_type": "code",
   "execution_count": 6,
   "metadata": {
    "run_control": {
     "frozen": false,
     "read_only": false
    },
    "scrolled": true
   },
   "outputs": [
    {
     "name": "stderr",
     "output_type": "stream",
     "text": [
      "\r",
      "    0%|          | 0/1  "
     ]
    },
    {
     "name": "stdout",
     "output_type": "stream",
     "text": [
      "Executor ID c8a496b5-37ca Getting result\n",
      "\n"
     ]
    },
    {
     "name": "stderr",
     "output_type": "stream",
     "text": [
      "\r",
      "  100%|██████████| 1/1  "
     ]
    },
    {
     "name": "stdout",
     "output_type": "stream",
     "text": [
      "\n",
      "\n"
     ]
    },
    {
     "name": "stderr",
     "output_type": "stream",
     "text": [
      "\n"
     ]
    },
    {
     "data": {
      "text/plain": [
       "10"
      ]
     },
     "metadata": {},
     "output_type": "display_data"
    },
    {
     "name": "stdout",
     "output_type": "stream",
     "text": [
      "Executor ID c8a496b5-37ca Cleaning partial results from PyWren bucket 'gilvdata'.\n",
      "Executor ID c8a496b5-37ca Cleaning partial results for 'Apywren.jobs/c8a496b5-37ca'.\n",
      "Executor ID c8a496b5-37ca Cleaning partial results for 'Apywren.jobs/c8a496b5-37ca'.\n"
     ]
    }
   ],
   "source": [
    "display(wrenexec.get_result())\n",
    "wrenexec.clean()"
   ]
  },
  {
   "cell_type": "markdown",
   "metadata": {
    "run_control": {
     "frozen": false,
     "read_only": false
    }
   },
   "source": [
    "You can apply `my_function` to a list of arguments, and each will be executed remotely at the same time. "
   ]
  },
  {
   "cell_type": "code",
   "execution_count": 7,
   "metadata": {
    "run_control": {
     "frozen": false,
     "read_only": false
    }
   },
   "outputs": [
    {
     "data": {
      "text/plain": [
       "[<pywren_ibm_cloud.future.ResponseFuture at 0x10ae10f28>,\n",
       " <pywren_ibm_cloud.future.ResponseFuture at 0x10ae1a860>,\n",
       " <pywren_ibm_cloud.future.ResponseFuture at 0x10ae1a358>,\n",
       " <pywren_ibm_cloud.future.ResponseFuture at 0x10ae1aa20>,\n",
       " <pywren_ibm_cloud.future.ResponseFuture at 0x10ae1a400>,\n",
       " <pywren_ibm_cloud.future.ResponseFuture at 0x10ae1f940>,\n",
       " <pywren_ibm_cloud.future.ResponseFuture at 0x10ae1fb00>,\n",
       " <pywren_ibm_cloud.future.ResponseFuture at 0x10ae1a828>,\n",
       " <pywren_ibm_cloud.future.ResponseFuture at 0x10ae1a898>,\n",
       " <pywren_ibm_cloud.future.ResponseFuture at 0x109a5df28>]"
      ]
     },
     "execution_count": 7,
     "metadata": {},
     "output_type": "execute_result"
    }
   ],
   "source": [
    "wrenexec = pywren.ibm_cf_executor(config=config)\n",
    "wrenexec.map(my_function, range(10))"
   ]
  },
  {
   "cell_type": "markdown",
   "metadata": {
    "run_control": {
     "frozen": false,
     "read_only": false
    }
   },
   "source": [
    "The pywren `get_all_results` function will wait until all of the futures are done and return their results"
   ]
  },
  {
   "cell_type": "code",
   "execution_count": 8,
   "metadata": {
    "run_control": {
     "frozen": false,
     "read_only": false
    }
   },
   "outputs": [
    {
     "name": "stderr",
     "output_type": "stream",
     "text": [
      "  100%|██████████| 10/10  \n"
     ]
    },
    {
     "data": {
      "text/plain": [
       "[7, 8, 9, 10, 11, 12, 13, 14, 15, 16]"
      ]
     },
     "metadata": {},
     "output_type": "display_data"
    }
   ],
   "source": [
    "results = wrenexec._get_all_results()\n",
    "display(results)"
   ]
  },
  {
   "cell_type": "markdown",
   "metadata": {},
   "source": [
    "That's it, we are now familiar how to make use of PyWren for parallelly executing a Python function across many actions in IBM Cloud Functions."
   ]
  }
 ],
 "metadata": {
  "anaconda-cloud": {},
  "kernelspec": {
   "display_name": "Python 3",
   "language": "python",
   "name": "python3"
  },
  "language_info": {
   "codemirror_mode": {
    "name": "ipython",
    "version": 3
   },
   "file_extension": ".py",
   "mimetype": "text/x-python",
   "name": "python",
   "nbconvert_exporter": "python",
   "pygments_lexer": "ipython3",
   "version": "3.6.5"
  },
  "toc": {
   "nav_menu": {
    "height": "12px",
    "width": "252px"
   },
   "navigate_menu": true,
   "number_sections": true,
   "sideBar": true,
   "threshold": 4,
   "toc_cell": false,
   "toc_section_display": "block",
   "toc_window_display": false
  }
 },
 "nbformat": 4,
 "nbformat_minor": 2
}
