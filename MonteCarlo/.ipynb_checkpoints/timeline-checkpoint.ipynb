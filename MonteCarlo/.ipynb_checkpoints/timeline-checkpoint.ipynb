{
 "cells": [
  {
   "cell_type": "code",
   "execution_count": null,
   "metadata": {
    "ExecuteTime": {
     "end_time": "2017-01-19T14:51:28.677518",
     "start_time": "2017-01-19T14:51:28.660777"
    },
    "run_control": {
     "frozen": false,
     "read_only": false
    }
   },
   "outputs": [],
   "source": [
    "%pylab inline\n",
    "import uuid\n",
    "import base64\n",
    "from six.moves import cPickle as pickle\n",
    "import seaborn as sns\n",
    "import pandas as pd\n",
    "from matplotlib import patches as mpatches\n",
    "sns.set_style('whitegrid')\n",
    "import os"
   ]
  },
  {
   "cell_type": "code",
   "execution_count": null,
   "metadata": {
    "ExecuteTime": {
     "end_time": "2017-01-19T15:23:50.468405",
     "start_time": "2017-01-19T15:23:50.447766"
    },
    "run_control": {
     "frozen": false,
     "read_only": false
    }
   },
   "outputs": [],
   "source": [
    "results_data = pickle.load(open(\"./statuses.pickle\", 'rb'))\n",
    "\n",
    "results_df = pd.DataFrame(results_data['run_statuses'])\n",
    "invoke_df = pd.DataFrame(results_data['invoke_statuses'])"
   ]
  },
  {
   "cell_type": "code",
   "execution_count": null,
   "metadata": {
    "ExecuteTime": {
     "end_time": "2017-01-19T15:23:51.258104",
     "start_time": "2017-01-19T15:23:51.236119"
    },
    "run_control": {
     "frozen": false,
     "read_only": false
    }
   },
   "outputs": [],
   "source": [
    "results_df = pd.concat([results_df, invoke_df], axis=1)\n",
    "Cols = list(results_df.columns)\n",
    "for i,item in enumerate(results_df.columns):\n",
    "    if item in results_df.columns[:i]: Cols[i] = \"toDROP\"\n",
    "results_df.columns = Cols\n",
    "results_df = results_df.drop(\"toDROP\",1)"
   ]
  },
  {
   "cell_type": "code",
   "execution_count": null,
   "metadata": {
    "ExecuteTime": {
     "end_time": "2017-01-19T15:23:52.980332",
     "start_time": "2017-01-19T15:23:52.967950"
    }
   },
   "outputs": [],
   "source": [
    "results_df.dtypes"
   ]
  },
  {
   "cell_type": "code",
   "execution_count": null,
   "metadata": {
    "ExecuteTime": {
     "end_time": "2017-01-19T16:44:58.642907",
     "start_time": "2017-01-19T16:44:58.636714"
    }
   },
   "outputs": [],
   "source": [
    "palette = sns.color_palette(\"deep\", 6)\n"
   ]
  },
  {
   "cell_type": "code",
   "execution_count": null,
   "metadata": {
    "ExecuteTime": {
     "end_time": "2017-01-19T16:46:07.679051",
     "start_time": "2017-01-19T16:46:07.034149"
    },
    "run_control": {
     "frozen": false,
     "read_only": false
    }
   },
   "outputs": [],
   "source": [
    "\n",
    "time_offset = np.min(results_df.host_submit_time)\n",
    "fig = pylab.figure(figsize=(10, 6))\n",
    "ax = fig.add_subplot(1, 1, 1)\n",
    "total_jobs = len(results_df)\n",
    "\n",
    "y = np.arange(total_jobs)\n",
    "point_size = 10\n",
    "\n",
    "fields = [\n",
    "          ('host submit', results_df.host_submit_time - time_offset), \n",
    "          ('job start', results_df.start_time - time_offset ), \n",
    "          ('setup done', results_df.start_time + results_df.setup_time - time_offset), \n",
    "          ('job done', results_df.end_time - time_offset), \n",
    "          ('results fetched', results_df.download_output_timestamp - time_offset)\n",
    "         ]\n",
    "\n",
    "patches = []\n",
    "for f_i, (field_name, val) in enumerate(fields):\n",
    "    \n",
    "    ax.scatter(val, y, c=palette[f_i], edgecolor='none', s=point_size, alpha=0.8)\n",
    "    patches.append(mpatches.Patch(color=palette[f_i], label=field_name))\n",
    "ax.set_xlabel('wallclock time (sec)')\n",
    "ax.set_ylabel('job')\n",
    "#pylab.ylim(0, 10)\n",
    "\n",
    "\n",
    "legend = pylab.legend(handles=patches, \n",
    "                      loc='upper right', frameon=True)\n",
    "#pylab.title(\"Runtime for {} jobs of {:3.0f}M double ops (dgemm) each\".format(total_jobs, JOB_GFLOPS))\n",
    "legend.get_frame().set_facecolor('#FFFFFF')\n",
    "\n",
    "\n",
    "\n",
    "plot_step = 100  #\n",
    "plot_step = int(np.min([128, total_jobs/32]))\n",
    "y_ticks = np.arange(total_jobs//plot_step + 2) * plot_step\n",
    "ax.set_yticks(y_ticks)\n",
    "ax.set_ylim(-0.02*total_jobs, total_jobs*1.05)\n",
    "\n",
    "ax.set_xlim(-5, np.max(results_df.download_output_timestamp - time_offset)*1.05)\n",
    "#ax.set_xlim(-0.02, np.max(8))\n",
    "\n",
    "for y in y_ticks:\n",
    "    ax.axhline(y, c='k', alpha=0.1, linewidth=1)\n",
    " \n",
    "ax.grid(False)\n",
    "fig.tight_layout()\n",
    "#fig.savefig(\"timeline.png\")"
   ]
  },
  {
   "cell_type": "code",
   "execution_count": null,
   "metadata": {},
   "outputs": [],
   "source": [
    "runtime_bins = np.linspace(0, 300, 300)\n",
    "def compute_times_rates(d):\n",
    "\n",
    "    x = np.array(d)\n",
    "    \n",
    "    tzero = np.min(x[:, 0])\n",
    "    start_time = x[:, 0] - tzero\n",
    "    end_time = x[:, 1]  - tzero\n",
    "\n",
    "    N = len(start_time)\n",
    "\n",
    "    runtime_jobs_hist = np.zeros((N, len(runtime_bins)))\n",
    "\n",
    "    for i in range(N):\n",
    "        s = start_time[i]\n",
    "        e = end_time[i]\n",
    "        a, b = np.searchsorted(runtime_bins, [s, e])\n",
    "        if b-a > 0:\n",
    "            runtime_jobs_hist[i, a:b] = 1\n",
    "\n",
    "    return {'start_time' : start_time,\n",
    "            'end_time' : end_time,\n",
    "            'runtime_jobs_hist' : runtime_jobs_hist}"
   ]
  },
  {
   "cell_type": "code",
   "execution_count": null,
   "metadata": {},
   "outputs": [],
   "source": [
    "from matplotlib.collections import LineCollection\n",
    "fig = pylab.figure(figsize=(10, 6))\n",
    "ax = fig.add_subplot(1, 1, 1)\n",
    "\n",
    "time_rates =[(rs['start_time'], rs['end_time']) for rs in results_data['run_statuses']]\n",
    "\n",
    "time_hist  = compute_times_rates(time_rates)\n",
    "\n",
    "N = len(time_hist['start_time'])\n",
    "line_segments = LineCollection([[[time_hist['start_time'][i], i], \n",
    "                                 [time_hist['end_time'][i], i]] for i in range(N)],\n",
    "                               linestyles='solid', color='k', alpha=0.4, linewidth=0.2)\n",
    "\n",
    "ax.add_collection(line_segments)\n",
    "\n",
    "\n",
    "\n",
    "ax.plot(runtime_bins, time_hist['runtime_jobs_hist'].sum(axis=0), \n",
    "        label='active jobs total', \n",
    "        zorder=-1)\n",
    "\n",
    "ax.set_xlim(0, 300)\n",
    "ax.set_ylim(0, len(time_hist['start_time'])*1.05)\n",
    "ax.set_xlabel(\"time (sec)\")\n",
    "\n",
    "ax.set_ylabel(\"IBM Cloud function execution\")\n",
    "ax.grid(False)\n",
    "ax.legend(loc='upper right')\n",
    "    \n",
    "fig.tight_layout()"
   ]
  },
  {
   "cell_type": "code",
   "execution_count": null,
   "metadata": {},
   "outputs": [],
   "source": []
  }
 ],
 "metadata": {
  "anaconda-cloud": {},
  "kernelspec": {
   "display_name": "Python 3",
   "language": "python",
   "name": "python3"
  },
  "language_info": {
   "codemirror_mode": {
    "name": "ipython",
    "version": 3
   },
   "file_extension": ".py",
   "mimetype": "text/x-python",
   "name": "python",
   "nbconvert_exporter": "python",
   "pygments_lexer": "ipython3",
   "version": "3.6.7"
  },
  "toc": {
   "nav_menu": {
    "height": "12px",
    "width": "252px"
   },
   "navigate_menu": true,
   "number_sections": true,
   "sideBar": true,
   "threshold": 4,
   "toc_cell": false,
   "toc_number_sections": true,
   "toc_section_display": "block",
   "toc_threshold": 6,
   "toc_window_display": false
  }
 },
 "nbformat": 4,
 "nbformat_minor": 1
}
