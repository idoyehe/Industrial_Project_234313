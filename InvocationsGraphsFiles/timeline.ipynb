{
 "cells": [
  {
   "cell_type": "code",
   "execution_count": 1,
   "metadata": {
    "ExecuteTime": {
     "end_time": "2017-01-19T14:51:28.677518",
     "start_time": "2017-01-19T14:51:28.660777"
    },
    "run_control": {
     "frozen": false,
     "read_only": false
    }
   },
   "outputs": [
    {
     "name": "stdout",
     "output_type": "stream",
     "text": [
      "Populating the interactive namespace from numpy and matplotlib\n"
     ]
    }
   ],
   "source": [
    "%pylab inline\n",
    "import uuid\n",
    "import base64\n",
    "from six.moves import cPickle as pickle\n",
    "import seaborn as sns\n",
    "import pandas as pd\n",
    "from matplotlib import patches as mpatches\n",
    "sns.set_style('whitegrid')\n",
    "import os"
   ]
  },
  {
   "cell_type": "code",
   "execution_count": 2,
   "metadata": {
    "ExecuteTime": {
     "end_time": "2017-01-19T15:23:50.468405",
     "start_time": "2017-01-19T15:23:50.447766"
    },
    "run_control": {
     "frozen": false,
     "read_only": false
    }
   },
   "outputs": [],
   "source": [
    "results_data = pickle.load(open(\"./statuses.pickle\", 'rb'))\n",
    "\n",
    "results_df = pd.DataFrame(results_data['run_statuses'])\n",
    "invoke_df = pd.DataFrame(results_data['invoke_statuses'])"
   ]
  },
  {
   "cell_type": "code",
   "execution_count": 3,
   "metadata": {
    "ExecuteTime": {
     "end_time": "2017-01-19T15:23:51.258104",
     "start_time": "2017-01-19T15:23:51.236119"
    },
    "run_control": {
     "frozen": false,
     "read_only": false
    }
   },
   "outputs": [],
   "source": [
    "results_df = pd.concat([results_df, invoke_df], axis=1)\n",
    "Cols = list(results_df.columns)\n",
    "for i,item in enumerate(results_df.columns):\n",
    "    if item in results_df.columns[:i]: Cols[i] = \"toDROP\"\n",
    "results_df.columns = Cols\n",
    "results_df = results_df.drop(\"toDROP\",1)"
   ]
  },
  {
   "cell_type": "code",
   "execution_count": 4,
   "metadata": {
    "ExecuteTime": {
     "end_time": "2017-01-19T15:23:52.980332",
     "start_time": "2017-01-19T15:23:52.967950"
    }
   },
   "outputs": [
    {
     "data": {
      "text/plain": [
       "call_id                       object\n",
       "callgroup_id                  object\n",
       "data_download_time           float64\n",
       "data_key                      object\n",
       "end_time                     float64\n",
       "exception                     object\n",
       "exec_time                    float64\n",
       "executor_id                   object\n",
       "func_download_time           float64\n",
       "func_key                      object\n",
       "function_exec_time           float64\n",
       "host_submit_time             float64\n",
       "ibm_cf_hostname               object\n",
       "ibm_cf_python_version         object\n",
       "ibm_cf_request_id             object\n",
       "jobrunner_start              float64\n",
       "output_key                    object\n",
       "output_upload_time           float64\n",
       "setup_time                   float64\n",
       "start_time                   float64\n",
       "status_key                    object\n",
       "agg_data                        bool\n",
       "cf_action_name                object\n",
       "cf_activation_id              object\n",
       "cf_endpoint                   object\n",
       "cf_invoke_time               float64\n",
       "cf_invoke_timestamp          float64\n",
       "cf_namespace                  object\n",
       "config                        object\n",
       "data_byte_range               object\n",
       "data_size_bytes                int64\n",
       "data_upload_time             float64\n",
       "data_upload_timestamp        float64\n",
       "download_output_time         float64\n",
       "download_output_timestamp    float64\n",
       "func_module_str_len            int64\n",
       "func_upload_time             float64\n",
       "func_upload_timestamp        float64\n",
       "job_invoke_timestamp         float64\n",
       "job_max_runtime                int64\n",
       "output_query_count             int64\n",
       "pywren_version                object\n",
       "status_done_timestamp        float64\n",
       "status_query_count             int64\n",
       "dtype: object"
      ]
     },
     "execution_count": 4,
     "metadata": {},
     "output_type": "execute_result"
    }
   ],
   "source": [
    "results_df.dtypes"
   ]
  },
  {
   "cell_type": "code",
   "execution_count": 5,
   "metadata": {
    "ExecuteTime": {
     "end_time": "2017-01-19T16:44:58.642907",
     "start_time": "2017-01-19T16:44:58.636714"
    }
   },
   "outputs": [],
   "source": [
    "palette = sns.color_palette(\"deep\", 6)\n"
   ]
  },
  {
   "cell_type": "code",
   "execution_count": 6,
   "metadata": {
    "ExecuteTime": {
     "end_time": "2017-01-19T16:46:07.679051",
     "start_time": "2017-01-19T16:46:07.034149"
    },
    "run_control": {
     "frozen": false,
     "read_only": false
    }
   },
   "outputs": [
    {
     "name": "stderr",
     "output_type": "stream",
     "text": [
      "'c' argument looks like a single numeric RGB or RGBA sequence, which should be avoided as value-mapping will have precedence in case its length matches with 'x' & 'y'.  Please use a 2-D array with a single row if you really want to specify the same RGB or RGBA value for all points.\n",
      "'c' argument looks like a single numeric RGB or RGBA sequence, which should be avoided as value-mapping will have precedence in case its length matches with 'x' & 'y'.  Please use a 2-D array with a single row if you really want to specify the same RGB or RGBA value for all points.\n",
      "'c' argument looks like a single numeric RGB or RGBA sequence, which should be avoided as value-mapping will have precedence in case its length matches with 'x' & 'y'.  Please use a 2-D array with a single row if you really want to specify the same RGB or RGBA value for all points.\n",
      "'c' argument looks like a single numeric RGB or RGBA sequence, which should be avoided as value-mapping will have precedence in case its length matches with 'x' & 'y'.  Please use a 2-D array with a single row if you really want to specify the same RGB or RGBA value for all points.\n",
      "'c' argument looks like a single numeric RGB or RGBA sequence, which should be avoided as value-mapping will have precedence in case its length matches with 'x' & 'y'.  Please use a 2-D array with a single row if you really want to specify the same RGB or RGBA value for all points.\n"
     ]
    },
    {
     "ename": "ZeroDivisionError",
     "evalue": "integer division or modulo by zero",
     "output_type": "error",
     "traceback": [
      "\u001b[0;31m---------------------------------------------------------------------------\u001b[0m",
      "\u001b[0;31mZeroDivisionError\u001b[0m                         Traceback (most recent call last)",
      "\u001b[0;32m<ipython-input-6-dd0372ccdb83>\u001b[0m in \u001b[0;36m<module>\u001b[0;34m\u001b[0m\n\u001b[1;32m     35\u001b[0m \u001b[0mplot_step\u001b[0m \u001b[0;34m=\u001b[0m \u001b[0;36m100\u001b[0m  \u001b[0;31m#\u001b[0m\u001b[0;34m\u001b[0m\u001b[0;34m\u001b[0m\u001b[0m\n\u001b[1;32m     36\u001b[0m \u001b[0mplot_step\u001b[0m \u001b[0;34m=\u001b[0m \u001b[0mint\u001b[0m\u001b[0;34m(\u001b[0m\u001b[0mnp\u001b[0m\u001b[0;34m.\u001b[0m\u001b[0mmin\u001b[0m\u001b[0;34m(\u001b[0m\u001b[0;34m[\u001b[0m\u001b[0;36m128\u001b[0m\u001b[0;34m,\u001b[0m \u001b[0mtotal_jobs\u001b[0m\u001b[0;34m/\u001b[0m\u001b[0;36m32\u001b[0m\u001b[0;34m]\u001b[0m\u001b[0;34m)\u001b[0m\u001b[0;34m)\u001b[0m\u001b[0;34m\u001b[0m\u001b[0;34m\u001b[0m\u001b[0m\n\u001b[0;32m---> 37\u001b[0;31m \u001b[0my_ticks\u001b[0m \u001b[0;34m=\u001b[0m \u001b[0mnp\u001b[0m\u001b[0;34m.\u001b[0m\u001b[0marange\u001b[0m\u001b[0;34m(\u001b[0m\u001b[0mtotal_jobs\u001b[0m\u001b[0;34m//\u001b[0m\u001b[0mplot_step\u001b[0m \u001b[0;34m+\u001b[0m \u001b[0;36m2\u001b[0m\u001b[0;34m)\u001b[0m \u001b[0;34m*\u001b[0m \u001b[0mplot_step\u001b[0m\u001b[0;34m\u001b[0m\u001b[0;34m\u001b[0m\u001b[0m\n\u001b[0m\u001b[1;32m     38\u001b[0m \u001b[0max\u001b[0m\u001b[0;34m.\u001b[0m\u001b[0mset_yticks\u001b[0m\u001b[0;34m(\u001b[0m\u001b[0my_ticks\u001b[0m\u001b[0;34m)\u001b[0m\u001b[0;34m\u001b[0m\u001b[0;34m\u001b[0m\u001b[0m\n\u001b[1;32m     39\u001b[0m \u001b[0max\u001b[0m\u001b[0;34m.\u001b[0m\u001b[0mset_ylim\u001b[0m\u001b[0;34m(\u001b[0m\u001b[0;34m-\u001b[0m\u001b[0;36m0.02\u001b[0m\u001b[0;34m*\u001b[0m\u001b[0mtotal_jobs\u001b[0m\u001b[0;34m,\u001b[0m \u001b[0mtotal_jobs\u001b[0m\u001b[0;34m*\u001b[0m\u001b[0;36m1.05\u001b[0m\u001b[0;34m)\u001b[0m\u001b[0;34m\u001b[0m\u001b[0;34m\u001b[0m\u001b[0m\n",
      "\u001b[0;31mZeroDivisionError\u001b[0m: integer division or modulo by zero"
     ]
    },
    {
     "data": {
      "image/png": "[encoded data removed]",
      "text/plain": [
       "<Figure size 720x432 with 1 Axes>"
      ]
     },
     "metadata": {
      "needs_background": "light"
     },
     "output_type": "display_data"
    }
   ],
   "source": [
    "\n",
    "time_offset = np.min(results_df.host_submit_time)\n",
    "fig = pylab.figure(figsize=(10, 6))\n",
    "ax = fig.add_subplot(1, 1, 1)\n",
    "total_jobs = len(results_df)\n",
    "\n",
    "y = np.arange(total_jobs)\n",
    "point_size = 10\n",
    "\n",
    "fields = [\n",
    "          ('host submit', results_df.host_submit_time - time_offset), \n",
    "          ('job start', results_df.start_time - time_offset ), \n",
    "          ('setup done', results_df.start_time + results_df.setup_time - time_offset), \n",
    "          ('job done', results_df.end_time - time_offset), \n",
    "          ('results fetched', results_df.download_output_timestamp - time_offset)\n",
    "         ]\n",
    "\n",
    "patches = []\n",
    "for f_i, (field_name, val) in enumerate(fields):\n",
    "    \n",
    "    ax.scatter(val, y, c=palette[f_i], edgecolor='none', s=point_size, alpha=0.8)\n",
    "    patches.append(mpatches.Patch(color=palette[f_i], label=field_name))\n",
    "ax.set_xlabel('wallclock time (sec)')\n",
    "ax.set_ylabel('job')\n",
    "#pylab.ylim(0, 10)\n",
    "\n",
    "\n",
    "legend = pylab.legend(handles=patches, \n",
    "                      loc='upper right', frameon=True)\n",
    "#pylab.title(\"Runtime for {} jobs of {:3.0f}M double ops (dgemm) each\".format(total_jobs, JOB_GFLOPS))\n",
    "legend.get_frame().set_facecolor('#FFFFFF')\n",
    "\n",
    "\n",
    "\n",
    "plot_step = 100  #\n",
    "plot_step = int(np.min([128, total_jobs/32]))\n",
    "y_ticks = np.arange(total_jobs//plot_step + 2) * plot_step\n",
    "ax.set_yticks(y_ticks)\n",
    "ax.set_ylim(-0.02*total_jobs, total_jobs*1.05)\n",
    "\n",
    "ax.set_xlim(-5, np.max(results_df.download_output_timestamp - time_offset)*1.05)\n",
    "#ax.set_xlim(-0.02, np.max(8))\n",
    "\n",
    "for y in y_ticks:\n",
    "    ax.axhline(y, c='k', alpha=0.1, linewidth=1)\n",
    " \n",
    "ax.grid(False)\n",
    "fig.tight_layout()\n",
    "#fig.savefig(\"timeline.png\")"
   ]
  },
  {
   "cell_type": "code",
   "execution_count": null,
   "metadata": {},
   "outputs": [],
   "source": [
    "runtime_bins = np.linspace(0, 300, 300)\n",
    "def compute_times_rates(d):\n",
    "\n",
    "    x = np.array(d)\n",
    "    \n",
    "    tzero = np.min(x[:, 0])\n",
    "    start_time = x[:, 0] - tzero\n",
    "    end_time = x[:, 1]  - tzero\n",
    "\n",
    "    N = len(start_time)\n",
    "\n",
    "    runtime_jobs_hist = np.zeros((N, len(runtime_bins)))\n",
    "\n",
    "    for i in range(N):\n",
    "        s = start_time[i]\n",
    "        e = end_time[i]\n",
    "        a, b = np.searchsorted(runtime_bins, [s, e])\n",
    "        if b-a > 0:\n",
    "            runtime_jobs_hist[i, a:b] = 1\n",
    "\n",
    "    return {'start_time' : start_time,\n",
    "            'end_time' : end_time,\n",
    "            'runtime_jobs_hist' : runtime_jobs_hist}"
   ]
  },
  {
   "cell_type": "code",
   "execution_count": null,
   "metadata": {},
   "outputs": [],
   "source": [
    "from matplotlib.collections import LineCollection\n",
    "fig = pylab.figure(figsize=(10, 6))\n",
    "ax = fig.add_subplot(1, 1, 1)\n",
    "\n",
    "time_rates =[(rs['start_time'], rs['end_time']) for rs in results_data['run_statuses']]\n",
    "\n",
    "time_hist  = compute_times_rates(time_rates)\n",
    "\n",
    "N = len(time_hist['start_time'])\n",
    "line_segments = LineCollection([[[time_hist['start_time'][i], i], \n",
    "                                 [time_hist['end_time'][i], i]] for i in range(N)],\n",
    "                               linestyles='solid', color='k', alpha=0.4, linewidth=0.2)\n",
    "\n",
    "ax.add_collection(line_segments)\n",
    "\n",
    "\n",
    "\n",
    "ax.plot(runtime_bins, time_hist['runtime_jobs_hist'].sum(axis=0), \n",
    "        label='active jobs total', \n",
    "        zorder=-1)\n",
    "\n",
    "ax.set_xlim(0, 300)\n",
    "ax.set_ylim(0, len(time_hist['start_time'])*1.05)\n",
    "ax.set_xlabel(\"time (sec)\")\n",
    "\n",
    "ax.set_ylabel(\"IBM Cloud function execution\")\n",
    "ax.grid(False)\n",
    "ax.legend(loc='upper right')\n",
    "    \n",
    "fig.tight_layout()"
   ]
  },
  {
   "cell_type": "code",
   "execution_count": null,
   "metadata": {},
   "outputs": [],
   "source": []
  }
 ],
 "metadata": {
  "anaconda-cloud": {},
  "kernelspec": {
   "display_name": "Python 3",
   "language": "python",
   "name": "python3"
  },
  "language_info": {
   "codemirror_mode": {
    "name": "ipython",
    "version": 3
   },
   "file_extension": ".py",
   "mimetype": "text/x-python",
   "name": "python",
   "nbconvert_exporter": "python",
   "pygments_lexer": "ipython3",
   "version": "3.6.7"
  },
  "toc": {
   "nav_menu": {
    "height": "12px",
    "width": "252px"
   },
   "navigate_menu": true,
   "number_sections": true,
   "sideBar": true,
   "threshold": 4,
   "toc_cell": false,
   "toc_number_sections": true,
   "toc_section_display": "block",
   "toc_threshold": 6,
   "toc_window_display": false
  }
 },
 "nbformat": 4,
 "nbformat_minor": 1
}
